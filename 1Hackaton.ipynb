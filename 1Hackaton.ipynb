{
  "nbformat": 4,
  "nbformat_minor": 0,
  "metadata": {
    "colab": {
      "provenance": [],
      "authorship_tag": "ABX9TyPo2I+DLL0EL1n3MFY7JCc5",
      "include_colab_link": true
    },
    "kernelspec": {
      "name": "python3",
      "display_name": "Python 3"
    },
    "language_info": {
      "name": "python"
    }
  },
  "cells": [
    {
      "cell_type": "markdown",
      "metadata": {
        "id": "view-in-github",
        "colab_type": "text"
      },
      "source": [
        "<a href=\"https://colab.research.google.com/github/GinoVilo/Airbnb-Web-Scrapping/blob/main/1Hackaton.ipynb\" target=\"_parent\"><img src=\"https://colab.research.google.com/assets/colab-badge.svg\" alt=\"Open In Colab\"/></a>"
      ]
    },
    {
      "cell_type": "code",
      "execution_count": 1,
      "metadata": {
        "colab": {
          "base_uri": "https://localhost:8080/"
        },
        "id": "9Ejah6yJM-iJ",
        "outputId": "65ea9b9d-2656-44a3-bce2-a869a1a1a5f8"
      },
      "outputs": [
        {
          "output_type": "stream",
          "name": "stdout",
          "text": [
            "Mounted at /content/drive\n"
          ]
        }
      ],
      "source": [
        "# mounting Google Drive\n",
        "from google.colab import drive\n",
        "drive.mount('/content/drive', force_remount=True)"
      ]
    },
    {
      "cell_type": "code",
      "source": [
        "import os"
      ],
      "metadata": {
        "id": "S4sa2vcbuR_k"
      },
      "execution_count": 15,
      "outputs": []
    },
    {
      "cell_type": "code",
      "source": [
        "# Set the path to your Google Cloud credentials file (replace with your actual path)\n",
        "os.environ[\"GOOGLE_APPLICATION_CREDENTIALS\"] = \"MyDrive/Hackaton2024Quilla/mliahackaton2024-798123d799f2.json\""
      ],
      "metadata": {
        "id": "KFcwFfZtuHsa"
      },
      "execution_count": 24,
      "outputs": []
    },
    {
      "cell_type": "code",
      "source": [
        "import vertexai\n",
        "#from vertexai.generative_models import GenerativeModel, Part"
      ],
      "metadata": {
        "id": "EF1TTXNefbQB"
      },
      "execution_count": 4,
      "outputs": []
    },
    {
      "cell_type": "code",
      "source": [
        "#!pip install --upgrade google-cloud-aiplatform\n"
      ],
      "metadata": {
        "id": "yKKFmJbCeVUT"
      },
      "execution_count": 23,
      "outputs": []
    },
    {
      "cell_type": "code",
      "source": [
        "from vertexai.preview.vision_models import ImageGenerationModel"
      ],
      "metadata": {
        "id": "O5N7GYSQdgam"
      },
      "execution_count": 2,
      "outputs": []
    },
    {
      "cell_type": "code",
      "source": [
        "# TODO(developer): Vertex AI SDK - uncomment below & run\n",
        "# pip3 install --upgrade --user google-cloud-aiplatform\n",
        "# gcloud auth application-default login\n",
        "\n",
        "import vertexai\n",
        "from vertexai.generative_models import GenerativeModel, Part\n",
        "\n"
      ],
      "metadata": {
        "id": "00RtyLdAjRU7"
      },
      "execution_count": 17,
      "outputs": []
    },
    {
      "cell_type": "code",
      "source": [
        "def generate_text(project_id: str, location: str) -> str:\n",
        "    # Initialize Vertex AI\n",
        "    vertexai.init(project=project_id, location=location)\n",
        "    # Load the model\n",
        "    multimodal_model = GenerativeModel(\"gemini-1.0-pro-vision\")\n",
        "    # Query the model\n",
        "    response = multimodal_model.generate_content(\n",
        "        [\n",
        "            # Add an example image\n",
        "            Part.from_uri(\n",
        "                \"gs://hk2024/Antidiarreico.jpg\", mime_type=\"image/jpeg\"\n",
        "            ),\n",
        "            # Add an example query\n",
        "            \"what is shown in this image?\",\n",
        "        ]\n",
        "    )\n",
        "    print(response)\n",
        "    return response.text\n"
      ],
      "metadata": {
        "id": "j_BJ8FGFuqIL"
      },
      "execution_count": 19,
      "outputs": []
    },
    {
      "cell_type": "code",
      "source": [
        "generate_text(\"mliahackaton2024\",\"us-central1\")"
      ],
      "metadata": {
        "colab": {
          "base_uri": "https://localhost:8080/",
          "height": 782
        },
        "id": "od8q4Bm0u-RC",
        "outputId": "d1ce39f6-c3ed-4557-9511-8931a83db46b"
      },
      "execution_count": 25,
      "outputs": [
        {
          "output_type": "stream",
          "name": "stdout",
          "text": [
            "candidates {\n",
            "  content {\n",
            "    role: \"model\"\n",
            "    parts {\n",
            "      text: \" It is a box of pills called Lomotil, which contains 8 tablets of 2mg each. The active ingredient is loperamide, which is used to treat diarrhea.\"\n",
            "    }\n",
            "  }\n",
            "  finish_reason: STOP\n",
            "  safety_ratings {\n",
            "    category: HARM_CATEGORY_HATE_SPEECH\n",
            "    probability: NEGLIGIBLE\n",
            "    probability_score: 0.059866417199373245\n",
            "    severity: HARM_SEVERITY_NEGLIGIBLE\n",
            "    severity_score: 0.08299414813518524\n",
            "  }\n",
            "  safety_ratings {\n",
            "    category: HARM_CATEGORY_DANGEROUS_CONTENT\n",
            "    probability: LOW\n",
            "    probability_score: 0.5025691390037537\n",
            "    severity: HARM_SEVERITY_LOW\n",
            "    severity_score: 0.26001349091529846\n",
            "  }\n",
            "  safety_ratings {\n",
            "    category: HARM_CATEGORY_HARASSMENT\n",
            "    probability: NEGLIGIBLE\n",
            "    probability_score: 0.0948452427983284\n",
            "    severity: HARM_SEVERITY_NEGLIGIBLE\n",
            "    severity_score: 0.09138210862874985\n",
            "  }\n",
            "  safety_ratings {\n",
            "    category: HARM_CATEGORY_SEXUALLY_EXPLICIT\n",
            "    probability: NEGLIGIBLE\n",
            "    probability_score: 0.14463143050670624\n",
            "    severity: HARM_SEVERITY_NEGLIGIBLE\n",
            "    severity_score: 0.0838903859257698\n",
            "  }\n",
            "}\n",
            "usage_metadata {\n",
            "  prompt_token_count: 265\n",
            "  candidates_token_count: 37\n",
            "  total_token_count: 302\n",
            "}\n",
            "\n"
          ]
        },
        {
          "output_type": "execute_result",
          "data": {
            "text/plain": [
              "' It is a box of pills called Lomotil, which contains 8 tablets of 2mg each. The active ingredient is loperamide, which is used to treat diarrhea.'"
            ],
            "application/vnd.google.colaboratory.intrinsic+json": {
              "type": "string"
            }
          },
          "metadata": {},
          "execution_count": 25
        }
      ]
    }
  ]
}