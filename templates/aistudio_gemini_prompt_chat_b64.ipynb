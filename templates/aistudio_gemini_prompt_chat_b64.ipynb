{
  "cells": [
    {
      "cell_type": "markdown",
      "metadata": {
        "id": "Tce3stUlHN0L"
      },
      "source": [
        "##### Copyright 2023 Google LLC"
      ]
    },
    {
      "cell_type": "code",
      "execution_count": null,
      "metadata": {
        "cellView": "form",
        "id": "tuOe1ymfHZPu"
      },
      "outputs": [],
      "source": [
        "#@title Licensed under the Apache License, Version 2.0 (the \"License\");\n",
        "# you may not use this file except in compliance with the License.\n",
        "# You may obtain a copy of the License at\n",
        "#\n",
        "# https://www.apache.org/licenses/LICENSE-2.0\n",
        "#\n",
        "# Unless required by applicable law or agreed to in writing, software\n",
        "# distributed under the License is distributed on an \"AS IS\" BASIS,\n",
        "# WITHOUT WARRANTIES OR CONDITIONS OF ANY KIND, either express or implied.\n",
        "# See the License for the specific language governing permissions and\n",
        "# limitations under the License."
      ]
    },
    {
      "cell_type": "markdown",
      "metadata": {
        "id": "FKwyTRdwB8aW"
      },
      "source": [
        "## Setup"
      ]
    },
    {
      "cell_type": "markdown",
      "metadata": {
        "id": "rlE8UqxrDIez"
      },
      "source": [
        "### Install & import\n"
      ]
    },
    {
      "cell_type": "code",
      "execution_count": null,
      "metadata": {
        "id": "cZiU4TKzznh9",
        "outputId": "ee575fd5-47d8-4388-d942-fd4814cfcce9"
      },
      "outputs": [
        {
          "name": "stdout",
          "output_type": "stream",
          "text": [
            "\u001b[33mWARNING: There was an error checking the latest version of pip.\u001b[0m\u001b[33m\n",
            "\u001b[0m"
          ]
        }
      ],
      "source": [
        "!pip install -U -q google-generativeai"
      ]
    },
    {
      "cell_type": "code",
      "execution_count": null,
      "metadata": {
        "id": "kWIuwKG2_oWE"
      },
      "outputs": [],
      "source": [
        "# import necessary modules.\n",
        "import google.generativeai as genai\n",
        "import json\n",
        "import base64\n",
        "import pathlib\n",
        "import pprint\n",
        "import requests\n",
        "import mimetypes\n",
        "from IPython.display import Markdown"
      ]
    },
    {
      "cell_type": "markdown",
      "metadata": {
        "id": "Fet3lFjdKHEM"
      },
      "source": [
        "## Set the API key"
      ]
    },
    {
      "cell_type": "markdown",
      "metadata": {
        "id": "ZoRWILAtCzBE"
      },
      "source": [
        "Add your API_KEY to the secrets manager in the left pannel \"🔑\"."
      ]
    },
    {
      "cell_type": "code",
      "execution_count": null,
      "metadata": {
        "id": "LaLCwNlkCyQd"
      },
      "outputs": [],
      "source": [
        "from google.colab import userdata\n",
        "\n",
        "API_KEY=userdata.get('API_KEY')"
      ]
    },
    {
      "cell_type": "code",
      "execution_count": null,
      "metadata": {
        "id": "_SvYoR3WCeKr"
      },
      "outputs": [],
      "source": [
        "# Configure the client library by providing your API key.\n",
        "genai.configure(api_key=API_KEY)"
      ]
    },
    {
      "cell_type": "markdown",
      "metadata": {
        "id": "weo-o73WDpdm"
      },
      "source": [
        "### Parse the arguments"
      ]
    },
    {
      "cell_type": "code",
      "execution_count": null,
      "metadata": {
        "id": "uIog-0SyDuIF"
      },
      "outputs": [],
      "source": [
        "model = 'gemini-1.0-pro' # @param {isTemplate: true}\n",
        "contents_b64 = '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' # @param {isTemplate: true}\n",
        "generation_config_b64 = 'eyJ0ZW1wZXJhdHVyZSI6MC45LCJ0b3BfcCI6MSwidG9wX2siOjAsIm1heF9vdXRwdXRfdG9rZW5zIjoyMDQ4LCJzdG9wX3NlcXVlbmNlcyI6W119' # @param {isTemplate: true}\n",
        "safety_settings_b64 = 'W3siY2F0ZWdvcnkiOiJIQVJNX0NBVEVHT1JZX0hBUkFTU01FTlQiLCJ0aHJlc2hvbGQiOiJCTE9DS19NRURJVU1fQU5EX0FCT1ZFIn0seyJjYXRlZ29yeSI6IkhBUk1fQ0FURUdPUllfSEFURV9TUEVFQ0giLCJ0aHJlc2hvbGQiOiJCTE9DS19NRURJVU1fQU5EX0FCT1ZFIn0seyJjYXRlZ29yeSI6IkhBUk1fQ0FURUdPUllfU0VYVUFMTFlfRVhQTElDSVQiLCJ0aHJlc2hvbGQiOiJCTE9DS19NRURJVU1fQU5EX0FCT1ZFIn0seyJjYXRlZ29yeSI6IkhBUk1fQ0FURUdPUllfREFOR0VST1VTX0NPTlRFTlQiLCJ0aHJlc2hvbGQiOiJCTE9DS19NRURJVU1fQU5EX0FCT1ZFIn1d' # @param {isTemplate: true}\n",
        "user_input_b64 = '' # @param {isTemplate: true}\n",
        "\n",
        "contents = json.loads(base64.b64decode(contents_b64))\n",
        "generation_config = json.loads(base64.b64decode(generation_config_b64))\n",
        "safety_settings = json.loads(base64.b64decode(safety_settings_b64))\n",
        "user_input = base64.b64decode(user_input_b64).decode()\n",
        "stream = False"
      ]
    },
    {
      "cell_type": "code",
      "execution_count": null,
      "metadata": {
        "id": "wBS8xNhN0x62",
        "outputId": "95df395e-8aae-4cc0-b1ce-61e04640d2f0"
      },
      "outputs": [
        {
          "data": {
            "text/plain": [
              "[{'role': 'user', 'parts': [{'text': 'hello'}]},\n",
              " {'role': 'model', 'parts': [{'text': 'Hello! How can I assist you today?'}]}]"
            ]
          },
          "execution_count": 7,
          "metadata": {},
          "output_type": "execute_result"
        }
      ],
      "source": [
        "contents"
      ]
    },
    {
      "cell_type": "code",
      "execution_count": null,
      "metadata": {
        "id": "1681593ef561",
        "outputId": "f56ce07d-f67b-4de6-b5c7-06b902c7c5d6"
      },
      "outputs": [
        {
          "data": {
            "text/plain": [
              "{}"
            ]
          },
          "execution_count": 8,
          "metadata": {},
          "output_type": "execute_result"
        }
      ],
      "source": [
        "generation_config"
      ]
    },
    {
      "cell_type": "code",
      "execution_count": null,
      "metadata": {
        "id": "a2c31f8f1894",
        "outputId": "a39f05ca-975f-48df-fa84-3452183d5826"
      },
      "outputs": [
        {
          "data": {
            "text/plain": [
              "{}"
            ]
          },
          "execution_count": 9,
          "metadata": {},
          "output_type": "execute_result"
        }
      ],
      "source": [
        "safety_settings"
      ]
    },
    {
      "cell_type": "code",
      "execution_count": null,
      "metadata": {
        "id": "4d17bac9fefc",
        "outputId": "349c4416-5ae8-473a-a935-9e403193c0e5"
      },
      "outputs": [
        {
          "data": {
            "text/plain": [
              "'How does electricity work?'"
            ]
          },
          "execution_count": 10,
          "metadata": {},
          "output_type": "execute_result"
        }
      ],
      "source": [
        "user_input"
      ]
    },
    {
      "cell_type": "markdown",
      "metadata": {
        "id": "E7zAD69vE92b"
      },
      "source": [
        "### Call the API"
      ]
    },
    {
      "cell_type": "code",
      "execution_count": null,
      "metadata": {
        "id": "LB2LxPmAB95V"
      },
      "outputs": [],
      "source": [
        "# Call the model and print the response.\n",
        "gemini = genai.GenerativeModel(model_name=model)\n",
        "\n",
        "chat = gemini.start_chat(history=contents)\n",
        "\n",
        "response = chat.send_message(\n",
        "    user_input,\n",
        "    stream=stream)"
      ]
    },
    {
      "cell_type": "code",
      "execution_count": null,
      "metadata": {
        "id": "Lm3RXwYuGtZK",
        "outputId": "e524384c-1711-43cf-ea01-9c8faddf2879"
      },
      "outputs": [
        {
          "data": {
            "text/markdown": [
              "Electricity is the flow of electric charge. It is a fundamental part of nature and is responsible for a wide range of phenomena, from lightning and static electricity to the operation of electronic devices.\n",
              "\n",
              "**Basic Principles of Electricity:**\n",
              "\n",
              "1. **Electric Charge:** Matter is made up of atoms, which have a positively charged nucleus surrounded by negatively charged electrons. The movement of these charged particles creates electric currents.\n",
              "\n",
              "2. **Electric Field:** Electric charges create an electric field around them. The strength and direction of this field depend on the amount and type of charge.\n",
              "\n",
              "3. **Electric Potential:** Electric potential is the amount of electrical energy stored in a region of space. It is measured in volts (V).\n",
              "\n",
              "4. **Electric Current:** Electric current is the flow of electric charge through a conductor. It is measured in amperes (A).\n",
              "\n",
              "**How Electricity Works:**\n",
              "\n",
              "1. **Generation of Electricity:** Electricity can be generated in various ways, including:\n",
              "   - **Mechanical Energy:** Generators convert mechanical energy into electrical energy by spinning a conductor in a magnetic field. This is the principle behind power plants that use turbines driven by steam, water, or wind.\n",
              "   - **Chemical Energy:** Batteries generate electricity through chemical reactions.\n",
              "   - **Solar Energy:** Solar cells convert sunlight directly into electricity using the photovoltaic effect.\n",
              "\n",
              "2. **Transmission of Electricity:** Electricity is transmitted over long distances through power lines. These lines are made of conductive materials, such as copper or aluminum, which allow electrons to flow easily.\n",
              "\n",
              "3. **Distribution of Electricity:** Once electricity reaches populated areas, it is distributed to homes, businesses, and other consumers through a network of local power lines and transformers.\n",
              "\n",
              "4. **Utilization of Electricity:** Electricity is used to power various devices and appliances by converting electrical energy into other forms of energy, such as light, heat, or motion.\n",
              "\n",
              "The flow of electricity in a circuit is driven by the difference in electric potential between two points. When a complete circuit is formed, electrons can flow from a region of higher potential to a region of lower potential, creating an electric current.\n",
              "\n",
              "Electricity is a versatile form of energy that has revolutionized modern society. It is used in a wide range of applications, from lighting and heating to powering computers and transportation systems."
            ],
            "text/plain": [
              "<IPython.core.display.Markdown object>"
            ]
          },
          "metadata": {},
          "output_type": "display_data"
        }
      ],
      "source": [
        "display(Markdown(response.text))"
      ]
    },
    {
      "cell_type": "code",
      "execution_count": null,
      "metadata": {
        "id": "JbKuUc3NGxYD",
        "outputId": "de704fd0-0a1d-4b05-f021-dd6f10a94235"
      },
      "outputs": [
        {
          "data": {
            "text/plain": [
              "safety_ratings {\n",
              "  category: HARM_CATEGORY_SEXUALLY_EXPLICIT\n",
              "  probability: NEGLIGIBLE\n",
              "}\n",
              "safety_ratings {\n",
              "  category: HARM_CATEGORY_HATE_SPEECH\n",
              "  probability: NEGLIGIBLE\n",
              "}\n",
              "safety_ratings {\n",
              "  category: HARM_CATEGORY_HARASSMENT\n",
              "  probability: NEGLIGIBLE\n",
              "}\n",
              "safety_ratings {\n",
              "  category: HARM_CATEGORY_DANGEROUS_CONTENT\n",
              "  probability: NEGLIGIBLE\n",
              "}"
            ]
          },
          "execution_count": 13,
          "metadata": {},
          "output_type": "execute_result"
        }
      ],
      "source": [
        "response.prompt_feedback"
      ]
    },
    {
      "cell_type": "code",
      "execution_count": null,
      "metadata": {
        "id": "SLAaIq3kgwwJ",
        "outputId": "76731efe-5f85-4294-87f7-d9e17783227e"
      },
      "outputs": [
        {
          "data": {
            "text/plain": [
              "[index: 0\n",
              "content {\n",
              "  parts {\n",
              "    text: \"Electricity is the flow of electric charge. It is a fundamental part of nature and is responsible for a wide range of phenomena, from lightning and static electricity to the operation of electronic devices.\\n\\n**Basic Principles of Electricity:**\\n\\n1. **Electric Charge:** Matter is made up of atoms, which have a positively charged nucleus surrounded by negatively charged electrons. The movement of these charged particles creates electric currents.\\n\\n2. **Electric Field:** Electric charges create an electric field around them. The strength and direction of this field depend on the amount and type of charge.\\n\\n3. **Electric Potential:** Electric potential is the amount of electrical energy stored in a region of space. It is measured in volts (V).\\n\\n4. **Electric Current:** Electric current is the flow of electric charge through a conductor. It is measured in amperes (A).\\n\\n**How Electricity Works:**\\n\\n1. **Generation of Electricity:** Electricity can be generated in various ways, including:\\n   - **Mechanical Energy:** Generators convert mechanical energy into electrical energy by spinning a conductor in a magnetic field. This is the principle behind power plants that use turbines driven by steam, water, or wind.\\n   - **Chemical Energy:** Batteries generate electricity through chemical reactions.\\n   - **Solar Energy:** Solar cells convert sunlight directly into electricity using the photovoltaic effect.\\n\\n2. **Transmission of Electricity:** Electricity is transmitted over long distances through power lines. These lines are made of conductive materials, such as copper or aluminum, which allow electrons to flow easily.\\n\\n3. **Distribution of Electricity:** Once electricity reaches populated areas, it is distributed to homes, businesses, and other consumers through a network of local power lines and transformers.\\n\\n4. **Utilization of Electricity:** Electricity is used to power various devices and appliances by converting electrical energy into other forms of energy, such as light, heat, or motion.\\n\\nThe flow of electricity in a circuit is driven by the difference in electric potential between two points. When a complete circuit is formed, electrons can flow from a region of higher potential to a region of lower potential, creating an electric current.\\n\\nElectricity is a versatile form of energy that has revolutionized modern society. It is used in a wide range of applications, from lighting and heating to powering computers and transportation systems.\"\n",
              "  }\n",
              "  role: \"model\"\n",
              "}\n",
              "finish_reason: STOP\n",
              "safety_ratings {\n",
              "  category: HARM_CATEGORY_SEXUALLY_EXPLICIT\n",
              "  probability: NEGLIGIBLE\n",
              "}\n",
              "safety_ratings {\n",
              "  category: HARM_CATEGORY_HATE_SPEECH\n",
              "  probability: NEGLIGIBLE\n",
              "}\n",
              "safety_ratings {\n",
              "  category: HARM_CATEGORY_HARASSMENT\n",
              "  probability: NEGLIGIBLE\n",
              "}\n",
              "safety_ratings {\n",
              "  category: HARM_CATEGORY_DANGEROUS_CONTENT\n",
              "  probability: NEGLIGIBLE\n",
              "}\n",
              "]"
            ]
          },
          "execution_count": 14,
          "metadata": {},
          "output_type": "execute_result"
        }
      ],
      "source": [
        "response.candidates"
      ]
    }
  ],
  "metadata": {
    "colab": {
      "collapsed_sections": [
        "Tce3stUlHN0L"
      ],
      "name": "aistudio_gemini_prompt_chat_b64.ipynb",
      "toc_visible": true,
      "provenance": []
    },
    "kernelspec": {
      "display_name": "Python 3",
      "name": "python3"
    }
  },
  "nbformat": 4,
  "nbformat_minor": 0
}